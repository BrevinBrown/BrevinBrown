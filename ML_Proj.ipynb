{
  "nbformat": 4,
  "nbformat_minor": 0,
  "metadata": {
    "colab": {
      "provenance": [],
      "machine_shape": "hm",
      "include_colab_link": true
    },
    "kernelspec": {
      "name": "python3",
      "display_name": "Python 3"
    },
    "language_info": {
      "name": "python"
    },
    "accelerator": "GPU",
    "gpuClass": "premium"
  },
  "cells": [
    {
      "cell_type": "markdown",
      "metadata": {
        "id": "view-in-github",
        "colab_type": "text"
      },
      "source": [
        "<a href=\"https://colab.research.google.com/github/BrevinBrown/BrevinBrown/blob/main/ML_Proj.ipynb\" target=\"_parent\"><img src=\"https://colab.research.google.com/assets/colab-badge.svg\" alt=\"Open In Colab\"/></a>"
      ]
    },
    {
      "cell_type": "code",
      "execution_count": 4,
      "metadata": {
        "id": "w_ZUCcpIvUYk",
        "colab": {
          "base_uri": "https://localhost:8080/"
        },
        "outputId": "6952de6b-ddff-4753-96cd-3471b7cb51c1"
      },
      "outputs": [
        {
          "output_type": "stream",
          "name": "stdout",
          "text": [
            "           id                                                url  \\\n",
            "0  7222695916  https://prescott.craigslist.org/cto/d/prescott...   \n",
            "1  7218891961  https://fayar.craigslist.org/ctd/d/bentonville...   \n",
            "2  7221797935  https://keys.craigslist.org/cto/d/summerland-k...   \n",
            "3  7222270760  https://worcester.craigslist.org/cto/d/west-br...   \n",
            "4  7210384030  https://greensboro.craigslist.org/cto/d/trinit...   \n",
            "\n",
            "                   region                         region_url  price  year  \\\n",
            "0                prescott    https://prescott.craigslist.org   6000   NaN   \n",
            "1            fayetteville       https://fayar.craigslist.org  11900   NaN   \n",
            "2            florida keys        https://keys.craigslist.org  21000   NaN   \n",
            "3  worcester / central MA   https://worcester.craigslist.org   1500   NaN   \n",
            "4              greensboro  https://greensboro.craigslist.org   4900   NaN   \n",
            "\n",
            "  manufacturer model condition cylinders  ... size  type paint_color  \\\n",
            "0          NaN   NaN       NaN       NaN  ...  NaN   NaN         NaN   \n",
            "1          NaN   NaN       NaN       NaN  ...  NaN   NaN         NaN   \n",
            "2          NaN   NaN       NaN       NaN  ...  NaN   NaN         NaN   \n",
            "3          NaN   NaN       NaN       NaN  ...  NaN   NaN         NaN   \n",
            "4          NaN   NaN       NaN       NaN  ...  NaN   NaN         NaN   \n",
            "\n",
            "  image_url description county state lat long posting_date  \n",
            "0       NaN         NaN    NaN    az NaN  NaN          NaN  \n",
            "1       NaN         NaN    NaN    ar NaN  NaN          NaN  \n",
            "2       NaN         NaN    NaN    fl NaN  NaN          NaN  \n",
            "3       NaN         NaN    NaN    ma NaN  NaN          NaN  \n",
            "4       NaN         NaN    NaN    nc NaN  NaN          NaN  \n",
            "\n",
            "[5 rows x 26 columns]\n"
          ]
        }
      ],
      "source": [
        "import numpy as np\n",
        "import pandas as pd\n",
        "import seaborn as sns # used for the confusion matrix\n",
        "from sklearn.model_selection import train_test_split\n",
        "from sklearn.decomposition import PCA\n",
        "from sklearn.linear_model import LogisticRegression\n",
        "from sklearn.model_selection import cross_val_score\n",
        "import matplotlib.pyplot as plt\n",
        "from sklearn import metrics\n",
        "from sklearn import linear_model\n",
        "from sklearn.preprocessing import PolynomialFeatures\n",
        "\n",
        "\n",
        "vars = ['year','manufacturer','model','condition','cylinders','size','type','paint_color','state']\n",
        "# vars = ['region','year','manufacturer','model','condition','cylinders','size','type','paint_color','state','price']\n",
        "dataset = pd.read_csv('/content/vehicles.csv' )\n",
        "\n",
        "X = dataset[vars]\n",
        "Y = dataset['price']\n",
        "\n",
        "print(dataset.head())"
      ]
    },
    {
      "cell_type": "code",
      "source": [
        "def cleanData(x,y):\n",
        "    i = 0\n",
        "    for column in x:\n",
        "        drops = []\n",
        "        #print(x.head(10))\n",
        "        for var in x[column]:\n",
        "            if pd.isna(var):\n",
        "                #print(var)\n",
        "                drops.append(i)\n",
        "            i += 1\n",
        "        y = y.drop(drops)\n",
        "        x = x.drop(drops)\n",
        "        x.reset_index(drop=True, inplace=True)\n",
        "        y.reset_index(drop=True, inplace=True)\n",
        "        i = 0  # reset i for the next column\n",
        "    drops=[]\n",
        "    i=0\n",
        "\n",
        "    #drop crazy outlier values, someone put car in at over $3 billion\n",
        "    for var in y:\n",
        "      if (var>100000 or var <1000):\n",
        "        drops.append(i)\n",
        "      i+=1\n",
        "    #print(drops)\n",
        "    y = y.drop(drops)\n",
        "    x = x.drop(drops)\n",
        "    x.reset_index(drop=True, inplace=True)\n",
        "    y.reset_index(drop=True, inplace=True)\n",
        "    return x,y\n"
      ],
      "metadata": {
        "id": "b8Da_8UbAeyC"
      },
      "execution_count": 5,
      "outputs": []
    },
    {
      "cell_type": "code",
      "source": [
        "def enumerateData(x):\n",
        "    for column in x:\n",
        "        strings=[]\n",
        "        if (column != 'year'):\n",
        "          for var in x[column]:\n",
        "              if var not in strings:\n",
        "                  strings.append(var)\n",
        "                  index = len(strings) - 1\n",
        "              else:\n",
        "                  index = strings.index(var)\n",
        "              x[column].replace(var, index, inplace=True)\n",
        "              \n",
        "        #print(strings)\n",
        "    #print(x.head())\n",
        "    return x\n"
      ],
      "metadata": {
        "id": "G9Fa4H7-3SS0"
      },
      "execution_count": 6,
      "outputs": []
    },
    {
      "cell_type": "code",
      "source": [
        "xclean, Y = cleanData(X,Y)\n",
        "print(len(Y))"
      ],
      "metadata": {
        "id": "bYBE8kWVcJww"
      },
      "execution_count": null,
      "outputs": []
    },
    {
      "cell_type": "code",
      "source": [
        "# Transforms the price into log space\n",
        "#Y = np.log(Y)"
      ],
      "metadata": {
        "id": "JV9QOYfUFkiR"
      },
      "execution_count": null,
      "outputs": []
    },
    {
      "cell_type": "code",
      "source": [
        "# Plots the listing prices of cars in the dataset after removing outliers (log scale)\n",
        "plt.yscale(\"log\")\n",
        "plt.xlabel('Dataset Row')\n",
        "plt.ylabel('Price Category ($)')\n",
        "plt.title('Listing Prices')\n",
        "plt.scatter(range(0,len(Y)),Y,2)\n",
        "plt.show()\n",
        "\n",
        "#x_y_enumerated = enumerateData(xclean.join(Y))\n",
        "#sns.heatmap(abs(x_y_enumerated.corr()), annot=True, cmap='coolwarm')#, fmt=.2f) \n",
        "#plt.show()"
      ],
      "metadata": {
        "id": "fgxFyfrrfWIt"
      },
      "execution_count": null,
      "outputs": []
    },
    {
      "cell_type": "code",
      "source": [
        "logbins = np.logspace(np.log10(1000),np.log10(100000),256)\n",
        "plt.hist(Y, bins=logbins)\n",
        "plt.xscale('log')\n",
        "plt.xlabel('Listing Prices')\n",
        "plt.ylabel('Number of Listings')\n",
        "plt.title('Listing Price Histogram')\n",
        "plt.show()"
      ],
      "metadata": {
        "id": "xgnbI5NmtbFA"
      },
      "execution_count": null,
      "outputs": []
    },
    {
      "cell_type": "code",
      "source": [
        "#for var in vars:\n",
        "# xclean, Y = cleanData(X,Y)\n",
        "\n",
        "# instead of enumerating, this turns category columns into series of boolean columns for each category\n",
        "xclean = pd.get_dummies(xclean, columns = ['manufacturer','model','condition','cylinders','size','type','paint_color','state'])\n",
        "print(len(Y))\n",
        "# xclean = enumerateData(xclean)\n",
        "\n",
        "xclean.head()"
      ],
      "metadata": {
        "id": "HE3ZYrG1Xoud"
      },
      "execution_count": null,
      "outputs": []
    },
    {
      "cell_type": "code",
      "source": [
        "def MSE(y, y_pred):\n",
        "  return (1/len(y)*(abs(y-y_pred))).sum()"
      ],
      "metadata": {
        "id": "j0v2jt01yA4M"
      },
      "execution_count": null,
      "outputs": []
    },
    {
      "cell_type": "code",
      "source": [
        "def Run_PCA(x, y):\n",
        "  costMSE = []\n",
        "  costtrain = []\n",
        "  model = linear_model.LinearRegression() #linear model is bad fit\n",
        "  #trying to do a poly fit\n",
        "  #poly = PolynomialFeatures(degree=2, include_bias=False)\n",
        "  #polyFeatures = poly.fit_transform(x.reshape(-1,1))\n",
        "\n",
        "  i=3000\n",
        "  #for i in range(7000,7000):\n",
        "  #PCA\n",
        "  pca = PCA(n_components=i)\n",
        "  principleComponents = pca.fit_transform(x) \n",
        "  X_train, X_test, y_train, y_test = train_test_split(principleComponents, y, test_size=0.20, random_state=42)\n",
        "\n",
        "  #Fit to poly regression\n",
        "  #x_train_poly = poly.fit_transform(X_train)\n",
        "  #x_test_poly = poly.fit_transform(X_test)\n",
        "\n",
        "\n",
        "  reg = model.fit(X_train,y_train)\n",
        "  Y_pred = reg.predict(X_test)\n",
        "  Y_train_pred = reg.predict(X_train)\n",
        "  \n",
        "  \n",
        "  '''\n",
        "  #print(model.coef_)\n",
        "  plt.plot(X_train[:,3],model.predict(x_train_poly),color='red',label='model')\n",
        "  plt.scatter(X_train[:,3], y_train,label='Price Data')\n",
        "  plt.xlabel('index')\n",
        "  plt.ylabel('Price')\n",
        "  plt.title('Linear Regression Fit')\n",
        "  plt.legend()\n",
        "  plt.show()\n",
        "  '''\n",
        "  costMSE.append(MSE(y_test,Y_pred))\n",
        "  #costtrain.append(MSE(y_train, Y_train_pred))\n",
        "\n",
        "  \n",
        "  return costMSE#, costtrain"
      ],
      "metadata": {
        "id": "SlMPqWhQuXl5"
      },
      "execution_count": null,
      "outputs": []
    },
    {
      "cell_type": "code",
      "source": [
        "def train():\n",
        "  #errorMSE , errortrain= Run_PCA(xclean,Y)\n",
        "  errorMSE = Run_PCA(xclean,Y)\n",
        "  '''\n",
        "  #plt.scatter(range(1,10),error, color = 'red', label='error')\n",
        "  plt.plot(range(1,10),error)\n",
        "  \n",
        "  plt.xlabel('K value')\n",
        "  plt.ylabel('error')\n",
        "  plt.legend()\n",
        "'''\n",
        "  #plt.plot(7000, errortrain, 'o-',label = 'Training Data')\n",
        "  plt.plot(3000, errorMSE, 'o-', color='red',label='Test Data')\n",
        "  plt.xlabel('Number of principal components')\n",
        "  plt.ylabel('Error')\n",
        "  plt.title('PCA for linear regression')\n",
        "  plt.legend()\n",
        "  plt.show()\n",
        "\n",
        "\n"
      ],
      "metadata": {
        "id": "A_sqYx603pb_"
      },
      "execution_count": null,
      "outputs": []
    },
    {
      "cell_type": "code",
      "source": [
        "train()"
      ],
      "metadata": {
        "id": "orNh-pKSbo6h"
      },
      "execution_count": null,
      "outputs": []
    }
  ]
}