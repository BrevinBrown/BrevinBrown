{
  "nbformat": 4,
  "nbformat_minor": 0,
  "metadata": {
    "colab": {
      "provenance": [],
      "authorship_tag": "ABX9TyOxZA3EnSs1+D6eAKnrS0UQ",
      "include_colab_link": true
    },
    "kernelspec": {
      "name": "python3",
      "display_name": "Python 3"
    },
    "language_info": {
      "name": "python"
    }
  },
  "cells": [
    {
      "cell_type": "markdown",
      "metadata": {
        "id": "view-in-github",
        "colab_type": "text"
      },
      "source": [
        "<a href=\"https://colab.research.google.com/github/BrevinBrown/BrevinBrown/blob/main/HW0.ipynb\" target=\"_parent\"><img src=\"https://colab.research.google.com/assets/colab-badge.svg\" alt=\"Open In Colab\"/></a>"
      ]
    },
    {
      "cell_type": "code",
      "execution_count": 34,
      "metadata": {
        "colab": {
          "base_uri": "https://localhost:8080/",
          "height": 285
        },
        "id": "MZMvqTWFtOT0",
        "outputId": "dc054256-2821-412e-907e-3b35c0226dfa"
      },
      "outputs": [
        {
          "output_type": "execute_result",
          "data": {
            "text/plain": [
              "<matplotlib.collections.PathCollection at 0x7fc2cf8e3e20>"
            ]
          },
          "metadata": {},
          "execution_count": 34
        },
        {
          "output_type": "display_data",
          "data": {
            "text/plain": [
              "<Figure size 432x288 with 1 Axes>"
            ],
            "image/png": "[encoded data removed]"
          },
          "metadata": {
            "needs_background": "light"
          }
        }
      ],
      "source": [
        "from numpy.lib.function_base import gradient\n",
        "import numpy as np\n",
        "import matplotlib.pyplot as plt\n",
        "import pandas as pd\n",
        "\n",
        "dataset = pd.read_csv('/D3.csv')\n",
        "#dataset.head(20)\n",
        "\n",
        "#putting data into variables\n",
        "X1 = dataset.iloc[:,0].values\n",
        "X2 = dataset.iloc[:,1].values\n",
        "X3 = dataset.iloc[:,2].values\n",
        "Y  = dataset.iloc[:,3].values\n",
        "\n",
        "#plots to test \n",
        "#plt.scatter(X1,Y)\n",
        "#plt.scatter(X2,Y)\n",
        "#plt.scatter(X3,Y)\n",
        "\n",
        "def gradientDecent(X,Y,theta, learningRate,steps):\n",
        "  \n",
        "  m=len(Y)\n",
        "  for _ in range(steps) :\n",
        "        error=(X*theta)-Y\n",
        "        theta=theta-((learningRate/m)*X*error)\n",
        "\n",
        "  return theta\n",
        "theta1 = gradientDecent(X1,Y,0,0.05,1000)\n",
        "theta2 = gradientDecent(X2,Y,0,0.1,1000)\n",
        "theta3 = gradientDecent(X3,Y,0,0.1,1000)\n",
        "\n",
        "\n",
        "\n"
      ]
    }
  ]
}