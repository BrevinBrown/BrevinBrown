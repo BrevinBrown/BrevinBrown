{
  "cells": [
    {
      "cell_type": "markdown",
      "metadata": {
        "id": "view-in-github",
        "colab_type": "text"
      },
      "source": [
        "<a href=\"https://colab.research.google.com/github/BrevinBrown/BrevinBrown/blob/main/ML_HW1.ipynb\" target=\"_parent\"><img src=\"https://colab.research.google.com/assets/colab-badge.svg\" alt=\"Open In Colab\"/></a>"
      ]
    },
    {
      "cell_type": "markdown",
      "metadata": {
        "id": "uhwPvALlk39n"
      },
      "source": [
        "Brevin Brown\n",
        "801096385\n",
        "HW 1\n",
        "https://github.com/BrevinBrown/BrevinBrown/blob/main/ML_HW1.ipynb"
      ]
    },
    {
      "cell_type": "code",
      "execution_count": 216,
      "metadata": {
        "id": "yumaFjJCk5Mt"
      },
      "outputs": [],
      "source": [
        "#Problem 1\n",
        "from numpy.lib.function_base import gradient\n",
        "import numpy as np\n",
        "import matplotlib.pyplot as plt\n",
        "import pandas as pd\n",
        "from scipy.special import logsumexp\n",
        "\n",
        "\n",
        "dataset = pd.read_csv('/content/Housing.csv')\n",
        "#dataset.head(20)\n",
        "\n",
        "price = dataset.iloc[:,0].values\n",
        "#print(price[:5])\n",
        "area = dataset.iloc[:,1].values\n",
        "#print(area[:5])\n",
        "bedrooms = dataset.iloc[:,2].values\n",
        "bathrooms = dataset.iloc[:,3].values\n",
        "stories = dataset.iloc[:,4].values\n",
        "parking = dataset.iloc[:,10].values\n",
        "\n",
        "m=len(price)\n",
        "\n",
        "X_0 = np.ones((m,1))\n",
        "area1= area.reshape(m,1)\n",
        "bedrooms1= bedrooms.reshape(m,1)\n",
        "bathrooms1= bathrooms.reshape(m,1)\n",
        "stories1= stories.reshape(m,1)\n",
        "parking1= parking.reshape(m,1)\n",
        "\n",
        "area_1 = np.hstack((X_0, area1))\n",
        "bedrooms_1 = np.hstack((X_0, bedrooms1))\n",
        "bathrooms_1 = np.hstack((X_0, bathrooms1))\n",
        "stories_1 = np.hstack((X_0, stories1))\n",
        "parking_1 = np.hstack((X_0, parking1))\n",
        "\n",
        "theta =np.zeros(2)"
      ]
    },
    {
      "cell_type": "code",
      "execution_count": 217,
      "metadata": {
        "id": "WqzMnBDjs17r"
      },
      "outputs": [],
      "source": [
        "def compute_cost(X, y, theta): \n",
        "\n",
        "  predictions = X.dot(theta)\n",
        "  errors = np.subtract(predictions, y) \n",
        "  \n",
        "  sqrErrors = np.square(errors) \n",
        "  J = 1 / (2 * m) * np.sum(sqrErrors) \n",
        " \n",
        "  return J "
      ]
    },
    {
      "cell_type": "code",
      "execution_count": 218,
      "metadata": {
        "id": "QvYcJaHbs4eA"
      },
      "outputs": [],
      "source": [
        "def gradient_descent(X, y, theta, alpha, iterations): \n",
        "  cost_history = np.zeros(iterations) \n",
        " \n",
        "  for i in range(iterations): \n",
        "    predictions = X.dot(theta)\n",
        "    errors = np.subtract(predictions, y) \n",
        "    sum_delta = (alpha / m) * X.transpose().dot(errors); \n",
        "    theta = theta - sum_delta; \n",
        "    cost_history[i] = compute_cost(X, y, theta)   \n",
        " \n",
        "  return theta, cost_history "
      ]
    },
    {
      "cell_type": "code",
      "execution_count": 219,
      "metadata": {
        "id": "r3rOkPDqzLD2"
      },
      "outputs": [],
      "source": [
        "# costArea = compute_cost(area_1, price, theta) \n",
        "# costBedrooms = compute_cost(bedrooms_1, price, theta) \n",
        "# costBathrooms = compute_cost(bathrooms_1, price, theta) \n",
        "# costStories = compute_cost(stories_1, price, theta) \n",
        "# costParking = compute_cost(parking_1, price, theta) \n",
        "# print('The cost for given values of theta_0 and theta_1 =', costArea) \n",
        "# print('The cost for given values of theta_0 and theta_1 =', costBedrooms) \n",
        "# print('The cost for given values of theta_0 and theta_1 =', costBathrooms) \n",
        "# print('The cost for given values of theta_0 and theta_1 =', costStories) \n",
        "# print('The cost for given values of theta_0 and theta_1 =', costParking) "
      ]
    },
    {
      "cell_type": "code",
      "execution_count": 220,
      "metadata": {
        "colab": {
          "base_uri": "https://localhost:8080/",
          "height": 385
        },
        "id": "cnqCtJnaA87l",
        "outputId": "7afc6112-f8a2-42b7-e85b-cc02a724eb66"
      },
      "outputs": [
        {
          "output_type": "stream",
          "name": "stdout",
          "text": [
            "Final value of theta = [nan nan]\n"
          ]
        },
        {
          "output_type": "stream",
          "name": "stderr",
          "text": [
            "<ipython-input-217-b8123af0b043>:6: RuntimeWarning: overflow encountered in square\n",
            "  sqrErrors = np.square(errors)\n",
            "<ipython-input-218-2426bf85ce34>:8: RuntimeWarning: invalid value encountered in subtract\n",
            "  theta = theta - sum_delta;\n"
          ]
        },
        {
          "output_type": "execute_result",
          "data": {
            "text/plain": [
              "<matplotlib.legend.Legend at 0x7f75f1e6ea30>"
            ]
          },
          "metadata": {},
          "execution_count": 220
        },
        {
          "output_type": "display_data",
          "data": {
            "text/plain": [
              "<Figure size 432x288 with 1 Axes>"
            ],
            "image/png": "[encoded data removed]"
          },
          "metadata": {
            "needs_background": "light"
          }
        }
      ],
      "source": [
        "theta = [0.,0.]\n",
        "iterations = 200\n",
        "alpha = 0.01\n",
        "\n",
        "\n",
        "thetaArea, costHistoryArea = gradient_descent(area_1, price, theta, alpha, iterations)\n",
        "print('Final value of theta =', thetaArea) \n",
        "thetaArea, costHistoryArea = gradient_descent(area_1, price, theta, alpha, iterations)\n",
        "#print('cost_history =', costHistory[0:10])\n",
        "\n",
        "plt.scatter(area_1[:,1], price, color='red', marker= '+', label= 'Training Data') \n",
        "plt.plot(area_1[:,1],area_1.dot(thetaArea), color='green', label='Linear Regression') \n",
        "plt.title('Area Linear Regression Fit')\n",
        "plt.legend()\n",
        "\n",
        "#plt.plot(range(1, iterations + 1),costHistory, color='blue',label='Area') "
      ]
    },
    {
      "cell_type": "code",
      "execution_count": 221,
      "metadata": {
        "colab": {
          "base_uri": "https://localhost:8080/",
          "height": 316
        },
        "id": "OR51bKDZuCnm",
        "outputId": "195c37a7-2314-42ac-c50c-08d3d3b666ab"
      },
      "outputs": [
        {
          "output_type": "stream",
          "name": "stdout",
          "text": [
            "Final value of theta = [1473442.76718489 1101051.52870939]\n"
          ]
        },
        {
          "output_type": "execute_result",
          "data": {
            "text/plain": [
              "<matplotlib.legend.Legend at 0x7f75f1ca6d00>"
            ]
          },
          "metadata": {},
          "execution_count": 221
        },
        {
          "output_type": "display_data",
          "data": {
            "text/plain": [
              "<Figure size 432x288 with 1 Axes>"
            ],
            "image/png": "[encoded data removed]"
          },
          "metadata": {
            "needs_background": "light"
          }
        }
      ],
      "source": [
        "theta = [0.,0.]\n",
        "iterations = 200\n",
        "alpha = 0.1\n",
        "\n",
        "\n",
        "thetaBedrooms, costHistorybedrooms = gradient_descent(bedrooms_1, price, theta, alpha, iterations)\n",
        "print('Final value of theta =', thetaBedrooms) \n",
        "#print('cost_history =', costHistory[0:10])\n",
        "\n",
        "plt.scatter(bedrooms_1[:,1], price, color='red', marker= '+', label= 'Training Data') \n",
        "plt.plot(bedrooms_1[:,1],bedrooms_1.dot(thetaBedrooms), color='green', label='Linear Regression') \n",
        "plt.title('Bedrooms Linear Regression Fit')\n",
        "plt.legend()\n"
      ]
    },
    {
      "cell_type": "code",
      "execution_count": 222,
      "metadata": {
        "colab": {
          "base_uri": "https://localhost:8080/",
          "height": 316
        },
        "id": "xbQnUyfJvSa2",
        "outputId": "c1a34a35-1a99-4e30-dd6c-5e8730dbc3ca"
      },
      "outputs": [
        {
          "output_type": "stream",
          "name": "stdout",
          "text": [
            "Final value of theta = [1473442.76718489 1101051.52870939]\n"
          ]
        },
        {
          "output_type": "execute_result",
          "data": {
            "text/plain": [
              "<matplotlib.legend.Legend at 0x7f75f1bc6700>"
            ]
          },
          "metadata": {},
          "execution_count": 222
        },
        {
          "output_type": "display_data",
          "data": {
            "text/plain": [
              "<Figure size 432x288 with 1 Axes>"
            ],
            "image/png": "[encoded data removed]"
          },
          "metadata": {
            "needs_background": "light"
          }
        }
      ],
      "source": [
        "theta = [0.,0.]\n",
        "iterations = 200\n",
        "alpha = 0.1\n",
        "\n",
        "\n",
        "thetaBathrooms, costHistoryBathrooms = gradient_descent(bathrooms_1, price, theta, alpha, iterations)\n",
        "print('Final value of theta =', thetaBedrooms) \n",
        "#print('cost_history =', costHistory[0:10])\n",
        "\n",
        "plt.scatter(bathrooms_1[:,1], price, color='red', marker= '+', label= 'Training Data') \n",
        "plt.plot(bathrooms_1[:,1],bathrooms_1.dot(thetaBathrooms), color='green', label='Linear Regression') \n",
        "plt.title('Bathrooms Linear Regression Fit')\n",
        "plt.legend()"
      ]
    },
    {
      "cell_type": "code",
      "execution_count": 223,
      "metadata": {
        "colab": {
          "base_uri": "https://localhost:8080/",
          "height": 316
        },
        "id": "O94RuZB-y_ZH",
        "outputId": "61d8c491-0379-4e22-94b3-a6461aced3d7"
      },
      "outputs": [
        {
          "output_type": "stream",
          "name": "stdout",
          "text": [
            "Final value of theta = [3030759.65003464  953077.39402618]\n"
          ]
        },
        {
          "output_type": "execute_result",
          "data": {
            "text/plain": [
              "<matplotlib.legend.Legend at 0x7f75f1b36910>"
            ]
          },
          "metadata": {},
          "execution_count": 223
        },
        {
          "output_type": "display_data",
          "data": {
            "text/plain": [
              "<Figure size 432x288 with 1 Axes>"
            ],
            "image/png": "[encoded data removed]"
          },
          "metadata": {
            "needs_background": "light"
          }
        }
      ],
      "source": [
        "theta = [0.,0.]\n",
        "iterations = 200\n",
        "alpha = 0.1\n",
        "\n",
        "\n",
        "thetaStories, costHistoryStories = gradient_descent(stories_1, price, theta, alpha, iterations)\n",
        "print('Final value of theta =', thetaStories) \n",
        "#print('cost_history =', costHistory[0:10])\n",
        "\n",
        "plt.scatter(stories_1[:,1], price, color='red', marker= '+', label= 'Training Data') \n",
        "plt.plot(stories_1[:,1],stories_1.dot(thetaStories), color='green', label='Linear Regression') \n",
        "plt.title('Stories Linear Regression Fit')\n",
        "plt.legend()"
      ]
    },
    {
      "cell_type": "code",
      "execution_count": 224,
      "metadata": {
        "colab": {
          "base_uri": "https://localhost:8080/",
          "height": 316
        },
        "id": "OIzJdsQKzRY-",
        "outputId": "0e429dc1-7a97-4a98-ac9c-51a4ada8e67c"
      },
      "outputs": [
        {
          "output_type": "stream",
          "name": "stdout",
          "text": [
            "Final value of theta = [4187466.18319372  834898.77705197]\n"
          ]
        },
        {
          "output_type": "execute_result",
          "data": {
            "text/plain": [
              "<matplotlib.legend.Legend at 0x7f75f1aa0850>"
            ]
          },
          "metadata": {},
          "execution_count": 224
        },
        {
          "output_type": "display_data",
          "data": {
            "text/plain": [
              "<Figure size 432x288 with 1 Axes>"
            ],
            "image/png": "[encoded data removed]"
          },
          "metadata": {
            "needs_background": "light"
          }
        }
      ],
      "source": [
        "theta = [0.,0.]\n",
        "iterations = 200\n",
        "alpha = 0.1\n",
        "\n",
        "\n",
        "thetaParking, costHistoryParking = gradient_descent(parking_1, price, theta, alpha, iterations)\n",
        "print('Final value of theta =', thetaParking) \n",
        "#print('cost_history =', costHistory[0:10])\n",
        "\n",
        "plt.scatter(parking_1[:,1], price, color='red', marker= '+', label= 'Training Data') \n",
        "plt.plot(parking_1[:,1],parking_1.dot(thetaParking), color='green', label='Linear Regression') \n",
        "plt.title('Parking Linear Regression Fit')\n",
        "plt.legend()"
      ]
    },
    {
      "cell_type": "code",
      "execution_count": 225,
      "metadata": {
        "colab": {
          "base_uri": "https://localhost:8080/",
          "height": 312
        },
        "id": "kJOsshL7Xy5o",
        "outputId": "0b6be659-c4eb-47d1-815c-3a350638ab0b"
      },
      "outputs": [
        {
          "output_type": "execute_result",
          "data": {
            "text/plain": [
              "<matplotlib.legend.Legend at 0x7f75f1a7d580>"
            ]
          },
          "metadata": {},
          "execution_count": 225
        },
        {
          "output_type": "display_data",
          "data": {
            "text/plain": [
              "<Figure size 432x288 with 1 Axes>"
            ],
            "image/png": "[encoded data removed]"
          },
          "metadata": {
            "needs_background": "light"
          }
        }
      ],
      "source": [
        "plt.plot(range(1, iterations + 1),costHistorybedrooms, color='blue',label='Bedrooms') \n",
        "plt.plot(range(1, iterations + 1),costHistoryBathrooms, color='green',label='Bathrooms') \n",
        "plt.plot(range(1, iterations + 1),costHistoryStories, color='red',label='Stories') \n",
        "plt.plot(range(1, iterations + 1),costHistoryParking, color='yellow',label='Parking') \n",
        "#plt.plot(range(1, iterations + 1),costHistoryArea, color='orange',label='Area') \n",
        "plt.grid() \n",
        "plt.xlabel('Number of iterations') \n",
        "plt.ylabel('Cost (J)') \n",
        "plt.title('Convergence of gradient descent') \n",
        "plt.legend()"
      ]
    },
    {
      "cell_type": "markdown",
      "metadata": {
        "id": "Fq6fxa381X5b"
      },
      "source": [
        "Problem 1b"
      ]
    },
    {
      "cell_type": "code",
      "execution_count": 226,
      "metadata": {
        "id": "O4KtO6Gt04zn"
      },
      "outputs": [],
      "source": [
        "def gradient_decsent_11var(x1, x2, x3,x4, x5, x6,x7, x8, x9,x10, x11,  y, lr, i_iter): \n",
        "    theta0 = 0 #initializing parameters to 0 \n",
        "    theta1 = 0 #initializing parameters to 0, \n",
        "    theta2 = 0 #initializing parameters to 0, \n",
        "    theta3 = 0 #initializing parameters to 0, \n",
        "    theta4 = 0\n",
        "    theta5 = 0\n",
        "    theta6 = 0\n",
        "    theta7 = 0\n",
        "    theta8 = 0\n",
        "    theta9 = 0\n",
        "    theta10 = 0\n",
        "    theta11 = 0\n",
        "\n",
        "    losses = [] \n",
        "    thetas = [] \n",
        "    for i in range (i_iter): \n",
        "      y_bar = theta11*x11 + theta10*x10 +theta9*x9 + theta8*x8 + theta7*x7 +theta6*x6 + theta5*x5 + theta4*x4 + theta3*x3 + theta2*x2 + theta1*x1 + theta0 \n",
        "      loss = mean_squared_error(y, y_bar) \n",
        "      theta0 = theta0 - logsumexp(lr*-2*(y-y_bar)/len(y)) \n",
        "      theta1 = theta1 - logsumexp(lr*-2*(x1.dot(y-y_bar))/len(y)) \n",
        "      theta2 = theta2 - logsumexp(lr*-2*(x2.dot(y-y_bar))/len(y)) \n",
        "      theta3 = theta3 - logsumexp(lr*-2*(x3.dot(y-y_bar))/len(y)) \n",
        "      theta4 = theta4 - logsumexp(lr*-2*(x4.dot(y-y_bar))/len(y)) \n",
        "      theta5 = theta5 - logsumexp(lr*-2*(x5.dot(y-y_bar))/len(y)) \n",
        "      theta6 = theta6 - logsumexp(lr*-2*(x6.dot(y-y_bar))/len(y)) \n",
        "      theta7 = theta7 - logsumexp(lr*-2*(x7.dot(y-y_bar))/len(y)) \n",
        "      theta8 = theta8 - logsumexp(lr*-2*(x8.dot(y-y_bar))/len(y)) \n",
        "      theta9 = theta9 - logsumexp(lr*-2*(x9.dot(y-y_bar))/len(y)) \n",
        "      theta10 = theta10 - logsumexp(lr*-2*(x10.dot(y-y_bar))/len(y)) \n",
        "      theta11 = theta11 - logsumexp(lr*-2*(x11.dot(y-y_bar))/len(y)) \n",
        "      losses.append(loss) \n",
        "      thetas.append((theta0, theta1, theta2, theta3, theta4, theta5, theta6,theta7, theta8, theta9,theta10, theta11, )) \n",
        "    return thetas, losses "
      ]
    },
    {
      "cell_type": "code",
      "execution_count": 227,
      "metadata": {
        "id": "3l8PYyCf1UJ1"
      },
      "outputs": [],
      "source": [
        "def mean_squared_error (y, y_bar): \n",
        "    difference = y - y_bar  #finding the difference between observed and predicted valu\n",
        "    difference = np.array(difference, dtype=np.float64)\n",
        "    squared_difference = difference**2  #taking square of the differene \n",
        "    summation = logsumexp(squared_difference)  #taking a sum of all the differences \n",
        "    \n",
        "    #print (summation) \n",
        "    MSE = summation/len(y)  #dividing summation to obtain average \n",
        "    return MSE "
      ]
    },
    {
      "cell_type": "code",
      "execution_count": 228,
      "metadata": {
        "id": "OOR8VnBw3hW8"
      },
      "outputs": [],
      "source": [
        "def convertToBin(x):\n",
        "  y=[]\n",
        "  for i in x:\n",
        "    if i ==\"yes\":\n",
        "      y.append(1)\n",
        "    else:\n",
        "      y.append(0)\n",
        "  return y"
      ]
    },
    {
      "cell_type": "code",
      "execution_count": 229,
      "metadata": {
        "colab": {
          "base_uri": "https://localhost:8080/",
          "height": 382
        },
        "id": "k-Y4cAxA1Wmj",
        "outputId": "f87855fe-ce2c-4535-956a-122d8365ec3e"
      },
      "outputs": [
        {
          "output_type": "stream",
          "name": "stderr",
          "text": [
            "<ipython-input-227-768c57b92419>:4: RuntimeWarning: overflow encountered in square\n",
            "  squared_difference = difference**2  #taking square of the differene\n",
            "<ipython-input-226-bbf1f2c39eb1>:18: RuntimeWarning: invalid value encountered in multiply\n",
            "  y_bar = theta11*x11 + theta10*x10 +theta9*x9 + theta8*x8 + theta7*x7 +theta6*x6 + theta5*x5 + theta4*x4 + theta3*x3 + theta2*x2 + theta1*x1 + theta0\n"
          ]
        },
        {
          "output_type": "execute_result",
          "data": {
            "text/plain": [
              "[<matplotlib.lines.Line2D at 0x7f75f190fe20>]"
            ]
          },
          "metadata": {},
          "execution_count": 229
        },
        {
          "output_type": "display_data",
          "data": {
            "text/plain": [
              "<Figure size 432x288 with 1 Axes>"
            ],
            "image/png": "[encoded data removed]"
          },
          "metadata": {
            "needs_background": "light"
          }
        }
      ],
      "source": [
        "price = dataset.iloc[:,0].values\n",
        "area = dataset.iloc[:,1].values\n",
        "bedrooms = dataset.iloc[:,2].values\n",
        "bathrooms = dataset.iloc[:,3].values\n",
        "stories = dataset.iloc[:,4].values\n",
        "mainroad = dataset.iloc[:,5].values\n",
        "guestroom = dataset.iloc[:,6].values\n",
        "basement = dataset.iloc[:,7].values\n",
        "water = dataset.iloc[:,8].values\n",
        "air = dataset.iloc[:,9].values\n",
        "parking = dataset.iloc[:,10].values\n",
        "furnished = dataset.iloc[:,11].values\n",
        "\n",
        "mainroad=np.c_[convertToBin(mainroad)].reshape(m,)\n",
        "guestroom=np.c_[convertToBin(guestroom)].reshape(m,)\n",
        "basement=np.c_[convertToBin(basement)].reshape(m,)\n",
        "water=np.c_[convertToBin(water)].reshape(m,)\n",
        "air=np.c_[convertToBin(air)].reshape(m,)\n",
        "furnished=np.c_[convertToBin(furnished)].reshape(m,)\n",
        "\n",
        "alpha=0.1\n",
        "iterations=1000\n",
        "\n",
        "thetas, costs = gradient_decsent_11var(area,bedrooms,bathrooms,stories,mainroad,guestroom,basement,water,air,parking,furnished,price,alpha,iterations)\n",
        "\n",
        "x_axis = np.arange(0., 1000, 1) \n",
        "plt.grid() \n",
        "plt.xlabel('Iteration') \n",
        "plt.ylabel('Loss') \n",
        "plt.title('Loss Over The Iteration Number') \n",
        "plt.plot(x_axis,costs,color='gold') "
      ]
    }
  ],
  "metadata": {
    "colab": {
      "provenance": [],
      "authorship_tag": "ABX9TyOBGO0H/pbahctE9Whol4nr",
      "include_colab_link": true
    },
    "kernelspec": {
      "display_name": "Python 3",
      "name": "python3"
    },
    "language_info": {
      "name": "python"
    }
  },
  "nbformat": 4,
  "nbformat_minor": 0
}